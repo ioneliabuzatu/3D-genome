{
 "cells": [
  {
   "cell_type": "markdown",
   "metadata": {},
   "source": [
    "## Visualize HiC maps\n",
    "\n",
    "with HiCPlotter\n",
    "\n",
    "get it from `wget https://raw.githubusercontent.com/akdemirlab/HiCPlotter/master/HiCPlotter.py` \\\n",
    "more: https://github.com/nservant/HiC-Pro/blob/master/doc/COMPATIBILITY.md"
   ]
  },
  {
   "cell_type": "code",
   "execution_count": 11,
   "metadata": {},
   "outputs": [],
   "source": [
    "%load_ext rpy2.ipython "
   ]
  },
  {
   "cell_type": "code",
   "execution_count": 2,
   "metadata": {},
   "outputs": [],
   "source": [
    "HiCPlotter=\"/home/mila/i/ionelia.buzatu/bow/programs/HiCPlotter.py\""
   ]
  },
  {
   "cell_type": "markdown",
   "metadata": {},
   "source": [
    "### One picture each matrix"
   ]
  },
  {
   "cell_type": "code",
   "execution_count": 41,
   "metadata": {
    "scrolled": true
   },
   "outputs": [
    {
     "name": "stdout",
     "output_type": "stream",
     "text": [
      "/home/mila/i/ionelia.buzatu/bow/programs/HiCPlotter.py:135: DeprecationWarning: `np.int` is a deprecated alias for the builtin `int`. To silence this warning, use `int` by itself. Doing this will not modify any behavior and is safe. When replacing `np.int`, you may wish to use e.g. `np.int64` or `np.int32` to specify the precision. If you wish to review your current use, check the release note link for additional information.\n",
      "Deprecated in NumPy 1.20; for more details and guidance: https://numpy.org/devdocs/release/1.20.0-notes.html#deprecations\n",
      "  mtx = sps.dok_matrix((length, length), dtype=np.int)\n",
      "/home/mila/i/ionelia.buzatu/bow/programs/HiCPlotter.py:2151: UserWarning: FixedFormatter should only be used together with FixedLocator\n",
      "  ax1.set_xticklabels(ticks)\n",
      "/home/mila/i/ionelia.buzatu/bow/programs/HiCPlotter.py:2152: UserWarning: FixedFormatter should only be used together with FixedLocator\n",
      "  ax1.set_yticklabels(ticks)\n",
      "Plotting now!!\n",
      "/home/mila/i/ionelia.buzatu/bow/programs/HiCPlotter.py:135: DeprecationWarning: `np.int` is a deprecated alias for the builtin `int`. To silence this warning, use `int` by itself. Doing this will not modify any behavior and is safe. When replacing `np.int`, you may wish to use e.g. `np.int64` or `np.int32` to specify the precision. If you wish to review your current use, check the release note link for additional information.\n",
      "Deprecated in NumPy 1.20; for more details and guidance: https://numpy.org/devdocs/release/1.20.0-notes.html#deprecations\n",
      "  mtx = sps.dok_matrix((length, length), dtype=np.int)\n",
      "/home/mila/i/ionelia.buzatu/bow/programs/HiCPlotter.py:2151: UserWarning: FixedFormatter should only be used together with FixedLocator\n",
      "  ax1.set_xticklabels(ticks)\n",
      "/home/mila/i/ionelia.buzatu/bow/programs/HiCPlotter.py:2152: UserWarning: FixedFormatter should only be used together with FixedLocator\n",
      "  ax1.set_yticklabels(ticks)\n",
      "Plotting now!!\n",
      "/home/mila/i/ionelia.buzatu/bow/programs/HiCPlotter.py:135: DeprecationWarning: `np.int` is a deprecated alias for the builtin `int`. To silence this warning, use `int` by itself. Doing this will not modify any behavior and is safe. When replacing `np.int`, you may wish to use e.g. `np.int64` or `np.int32` to specify the precision. If you wish to review your current use, check the release note link for additional information.\n",
      "Deprecated in NumPy 1.20; for more details and guidance: https://numpy.org/devdocs/release/1.20.0-notes.html#deprecations\n",
      "  mtx = sps.dok_matrix((length, length), dtype=np.int)\n",
      "/home/mila/i/ionelia.buzatu/bow/programs/HiCPlotter.py:2151: UserWarning: FixedFormatter should only be used together with FixedLocator\n",
      "  ax1.set_xticklabels(ticks)\n",
      "/home/mila/i/ionelia.buzatu/bow/programs/HiCPlotter.py:2152: UserWarning: FixedFormatter should only be used together with FixedLocator\n",
      "  ax1.set_yticklabels(ticks)\n",
      "Plotting now!!\n",
      "/home/mila/i/ionelia.buzatu/bow/programs/HiCPlotter.py:135: DeprecationWarning: `np.int` is a deprecated alias for the builtin `int`. To silence this warning, use `int` by itself. Doing this will not modify any behavior and is safe. When replacing `np.int`, you may wish to use e.g. `np.int64` or `np.int32` to specify the precision. If you wish to review your current use, check the release note link for additional information.\n",
      "Deprecated in NumPy 1.20; for more details and guidance: https://numpy.org/devdocs/release/1.20.0-notes.html#deprecations\n",
      "  mtx = sps.dok_matrix((length, length), dtype=np.int)\n",
      "/home/mila/i/ionelia.buzatu/bow/programs/HiCPlotter.py:2151: UserWarning: FixedFormatter should only be used together with FixedLocator\n",
      "  ax1.set_xticklabels(ticks)\n",
      "/home/mila/i/ionelia.buzatu/bow/programs/HiCPlotter.py:2152: UserWarning: FixedFormatter should only be used together with FixedLocator\n",
      "  ax1.set_yticklabels(ticks)\n",
      "Plotting now!!\n"
     ]
    }
   ],
   "source": [
    "## Plot the genome-wide map at 1Mb resolution\n",
    "binsizes = [150000] # , 150000, 500000, 1000000]\n",
    "samples_names = [\"basalrep1\", \"basalrep2\", \"laterep1\", \"laterep2\"]\n",
    "\n",
    "type_matrix=\"iced\"\n",
    "\n",
    "root_path=\"/home/mila/i/ionelia.buzatu/bow/3d-pipeline/hic-pro-output/hic_results/matrix\"\n",
    "\n",
    "!mkdir -p $root_path\n",
    "\n",
    "for binsize in binsizes:\n",
    "    for sample in samples_names:\n",
    "        \n",
    "        matrix_filepath = root_path+\"/\"+sample+\"/\"+type_matrix+\"/\"+str(binsize)+\"/\"+sample+\"_\"+str(binsize)\n",
    "        if type_matrix == \"iced\":\n",
    "            matrix_filepath += \"_iced.matrix\" \n",
    "        else:\n",
    "            matrix_filepath += \".matrix\" \n",
    "            \n",
    "        bed_filepath=root_path+\"/\"+sample+\"/raw/\"+str(binsize)+\"/\"+sample+\"_\"+str(binsize)+\"_abs.bed\" \n",
    "\n",
    "        !python $HiCPlotter -f $matrix_filepath -o $root_path/jpegs/150k/chr6/$sample\"_\"$type_matrix\"_\"$binsize -r $binsize -tri 1 -bed $bed_filepath -n $sample -chr chr6 -dpi 500 "
   ]
  },
  {
   "cell_type": "markdown",
   "metadata": {},
   "source": [
    "### Group matrices in one picture"
   ]
  },
  {
   "cell_type": "code",
   "execution_count": 10,
   "metadata": {},
   "outputs": [
    {
     "name": "stdout",
     "output_type": "stream",
     "text": [
      "Unknown option: -f\n",
      "usage: python [option] ... [-c cmd | -m mod | file | -] [arg] ...\n",
      "Try `python -h' for more information.\n"
     ]
    }
   ],
   "source": [
    "!python $HiCPlotter \\\n",
    "    -f /home/mila/i/ionelia.buzatu/bow/3d-pipeline/hic-pro-output/hic_results/matrix/basalrep1/iced/50000/basalrep1_50000_iced.matrix \\\n",
    "    /home/mila/i/ionelia.buzatu/bow/3d-pipeline/hic-pro-output/hic_results/matrix/basalrep2/iced/50000/basalrep2_50000_iced.matrix \\\n",
    "    /home/mila/i/ionelia.buzatu/bow/3d-pipeline/hic-pro-output/hic_results/matrix/laterep1/iced/50000/laterep1_50000_iced.matrix \\\n",
    "    /home/mila/i/ionelia.buzatu/bow/3d-pipeline/hic-pro-output/hic_results/matrix/laterep2/iced/50000/laterep2_50000_iced.matrix \\\n",
    "    -o $root_path/\"_all_\"$type_matrix\"_\"$binsize \\\n",
    "    -r $binsize -tri 1 \\\n",
    "    -bed /home/mila/i/ionelia.buzatu/bow/3d-pipeline/hic-pro-output/hic_results/matrix/basalrep1/raw/50000/basalrep1_50000_abs.bed \\\n",
    "    -n basalrep1 basalrep2 laterep1 laterep2 -chr chr6"
   ]
  },
  {
   "cell_type": "markdown",
   "metadata": {},
   "source": [
    "### Select whole chromosome"
   ]
  },
  {
   "cell_type": "code",
   "execution_count": 34,
   "metadata": {},
   "outputs": [
    {
     "name": "stdout",
     "output_type": "stream",
     "text": [
      "/home/mila/i/ionelia.buzatu/bow/programs/HiCPlotter.py:135: DeprecationWarning: `np.int` is a deprecated alias for the builtin `int`. To silence this warning, use `int` by itself. Doing this will not modify any behavior and is safe. When replacing `np.int`, you may wish to use e.g. `np.int64` or `np.int32` to specify the precision. If you wish to review your current use, check the release note link for additional information.\n",
      "Deprecated in NumPy 1.20; for more details and guidance: https://numpy.org/devdocs/release/1.20.0-notes.html#deprecations\n",
      "  mtx = sps.dok_matrix((length, length), dtype=np.int)\n",
      "/home/mila/i/ionelia.buzatu/bow/programs/HiCPlotter.py:2151: UserWarning: FixedFormatter should only be used together with FixedLocator\n",
      "  ax1.set_xticklabels(ticks)\n",
      "/home/mila/i/ionelia.buzatu/bow/programs/HiCPlotter.py:2152: UserWarning: FixedFormatter should only be used together with FixedLocator\n",
      "  ax1.set_yticklabels(ticks)\n",
      "Plotting now!!\n"
     ]
    }
   ],
   "source": [
    "type_matrix=\"iced\"\n",
    "binsize=500000\n",
    "root_path=\"/home/mila/i/ionelia.buzatu/bow/3d-pipeline/hic-pro-output/hic_results/matrix\" \n",
    "\n",
    "!python /home/mila/i/ionelia.buzatu/bow/programs/HiCPlotter.py -f \\\n",
    "    /home/mila/i/ionelia.buzatu/bow/3d-pipeline/hic-pro-output/hic_results/matrix/basalrep1/iced/500000/basalrep1_500000_iced.matrix \\\n",
    "    /home/mila/i/ionelia.buzatu/bow/3d-pipeline/hic-pro-output/hic_results/matrix/basalrep2/iced/500000/basalrep2_500000_iced.matrix \\\n",
    "    /home/mila/i/ionelia.buzatu/bow/3d-pipeline/hic-pro-output/hic_results/matrix/laterep1/iced/500000/laterep1_500000_iced.matrix \\\n",
    "    /home/mila/i/ionelia.buzatu/bow/3d-pipeline/hic-pro-output/hic_results/matrix/laterep2/iced/500000/laterep2_500000_iced.matrix \\\n",
    "    -o $root_path/\"chr6_all_bp(600650)_all_\"$type_matrix\"_\"$binsize \\\n",
    "    -r $binsize -tri 1 \\\n",
    "    -bed /home/mila/i/ionelia.buzatu/bow/3d-pipeline/hic-pro-output/hic_results/matrix/basalrep1/raw/500000/basalrep1_500000_abs.bed \\\n",
    "    -n basalrep1 basalrep2 laterep1 laterep2 -chr chr6"
   ]
  },
  {
   "cell_type": "markdown",
   "metadata": {},
   "source": [
    "### Select a region "
   ]
  },
  {
   "cell_type": "code",
   "execution_count": 46,
   "metadata": {},
   "outputs": [
    {
     "name": "stdout",
     "output_type": "stream",
     "text": [
      "Plotting now!!\n"
     ]
    },
    {
     "name": "stderr",
     "output_type": "stream",
     "text": [
      "/home/mila/i/ionelia.buzatu/bow/programs/HiCPlotter.py:135: DeprecationWarning: `np.int` is a deprecated alias for the builtin `int`. To silence this warning, use `int` by itself. Doing this will not modify any behavior and is safe. When replacing `np.int`, you may wish to use e.g. `np.int64` or `np.int32` to specify the precision. If you wish to review your current use, check the release note link for additional information.\n",
      "Deprecated in NumPy 1.20; for more details and guidance: https://numpy.org/devdocs/release/1.20.0-notes.html#deprecations\n",
      "  mtx = sps.dok_matrix((length, length), dtype=np.int)\n",
      "/home/mila/i/ionelia.buzatu/bow/programs/HiCPlotter.py:2151: UserWarning: FixedFormatter should only be used together with FixedLocator\n",
      "  ax1.set_xticklabels(ticks)\n",
      "/home/mila/i/ionelia.buzatu/bow/programs/HiCPlotter.py:2152: UserWarning: FixedFormatter should only be used together with FixedLocator\n",
      "  ax1.set_yticklabels(ticks)\n"
     ]
    }
   ],
   "source": [
    "%%bash\n",
    "\n",
    "type_matrix=\"iced\"\n",
    "binsize=500000\n",
    "root_path=\"/home/mila/i/ionelia.buzatu/bow/3d-pipeline/hic-pro-output/hic_results/matrix\" \n",
    "\n",
    "python /home/mila/i/ionelia.buzatu/bow/programs/HiCPlotter.py -f \\\n",
    "    $root_path\"/basalrep1/iced/\"$binsize\"/basalrep1_\"$binsize\"_iced.matrix\" \\\n",
    "    $root_path\"/basalrep2/iced/\"$binsize\"/basalrep2_\"$binsize\"_iced.matrix\" \\\n",
    "    $root_path\"/laterep1/iced/\"$binsize\"/laterep1_\"$binsize\"_iced.matrix\" \\\n",
    "    $root_path\"/laterep2/iced/\"$binsize\"/laterep2_\"$binsize\"_iced.matrix\" \\\n",
    "    -o $root_path/\"region_600-650_\"$type_matrix\"_\"$binsize \\\n",
    "    -r $binsize -tri 1 \\\n",
    "    -bed \"/home/mila/i/ionelia.buzatu/bow/3d-pipeline/hic-pro-output/hic_results/matrix/basalrep1/raw/\"$binsize\"/basalrep1_\"$binsize\"_abs.bed\" \\\n",
    "    -n basalrep1 basalrep2 laterep1 laterep2 -chr chr6 -dpi 800 -s 600 -e 650"
   ]
  },
  {
   "cell_type": "code",
   "execution_count": null,
   "metadata": {},
   "outputs": [],
   "source": []
  }
 ],
 "metadata": {
  "kernelspec": {
   "display_name": "Python 3 (comp-venv)",
   "language": "python",
   "name": "comp-venv"
  },
  "language_info": {
   "codemirror_mode": {
    "name": "ipython",
    "version": 3
   },
   "file_extension": ".py",
   "mimetype": "text/x-python",
   "name": "python",
   "nbconvert_exporter": "python",
   "pygments_lexer": "ipython3",
   "version": "3.7.6"
  }
 },
 "nbformat": 4,
 "nbformat_minor": 4
}
